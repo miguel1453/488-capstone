{
 "cells": [
  {
   "cell_type": "markdown",
   "id": "60529adc",
   "metadata": {},
   "source": [
    "# Set Up 2023 Data"
   ]
  },
  {
   "cell_type": "code",
   "execution_count": 5,
   "id": "6edc6652-e3ea-4e23-836e-f577a0efe232",
   "metadata": {},
   "outputs": [
    {
     "name": "stdout",
     "output_type": "stream",
     "text": [
      "      zpid                                            address  bedrooms  \\\n",
      "0   914857  {'streetAddress': '2308 Ridgewood Rd', 'city':...       4.0   \n",
      "1  1176855  {'streetAddress': '122 Dixie Dr', 'city': 'Ind...       3.0   \n",
      "2  2143678  {'streetAddress': '19 Oakwood Dr', 'city': 'Ne...       4.0   \n",
      "3  5614449  {'streetAddress': '260 Edgewood Rd', 'city': '...       2.0   \n",
      "4  5642139  {'streetAddress': '115 Windsor Rd', 'city': 'A...       4.0   \n",
      "\n",
      "   bathrooms   price  yearBuilt  longitude   latitude     homeStatus  \\\n",
      "0        2.0  230000     1961.0 -86.810970  33.618390  RECENTLY_SOLD   \n",
      "1        2.0  210000     1962.0 -86.156540  39.637882  RECENTLY_SOLD   \n",
      "2        2.0  365000     1962.0 -93.210335  45.049557           SOLD   \n",
      "3        1.0  484600     1975.0 -82.560425  35.620270          OTHER   \n",
      "4        3.0  680000     1951.0 -82.552260  35.637710           SOLD   \n",
      "\n",
      "                                         description  ...  chanceToSellFaster  \\\n",
      "0  This home has been lovingly cared for and main...  ...                 82%   \n",
      "1  Great, one owner ranch now on the market!  Rea...  ...                 52%   \n",
      "2  Welcome to this completely updated mid-century...  ...                None   \n",
      "3  Open House on Sunday, June 10th from 2pm to 4p...  ...                None   \n",
      "4  Immaculate golf course home located on the 8th...  ...                None   \n",
      "\n",
      "  dateSold dateSoldString taxAssessedValue  taxAssessedYear  hoaFee  \\\n",
      "0      NaN           None              NaN              NaN     NaN   \n",
      "1      NaN           None              NaN              NaN     NaN   \n",
      "2      NaN           None              NaN              NaN     NaN   \n",
      "3      NaN           None              NaN              NaN     NaN   \n",
      "4      NaN           None              NaN              NaN     NaN   \n",
      "\n",
      "   mortgageRates isListedByOwner moveInReady  moveInCompletionDate  \n",
      "0           None             NaN         NaN                  None  \n",
      "1           None             NaN         NaN                  None  \n",
      "2           None             NaN         NaN                  None  \n",
      "3           None             NaN         NaN                  None  \n",
      "4           None             NaN         NaN                  None  \n",
      "\n",
      "[5 rows x 66 columns]\n"
     ]
    }
   ],
   "source": [
    "import json\n",
    "import pandas as pd\n",
    "\n",
    "filepath = \"Zillow-ChapelHill-Spring2023-18k-Properties.json\"\n",
    "\n",
    "# First, Load the JSON file and convery it to a pandas data frame\n",
    "with open(filepath) as f:\n",
    "  data2023 = json.load(f)\n",
    "data2023.keys()\n",
    "\n",
    "\n",
    "df_2023 = pd.DataFrame(data2023)\n",
    "\n",
    "# Display the first few rows of the DataFrame\n",
    "print(df_2023.head())\n"
   ]
  },
  {
   "cell_type": "markdown",
   "id": "dbbc6c08",
   "metadata": {},
   "source": [
    "# Set up 2025 Data"
   ]
  },
  {
   "cell_type": "code",
   "execution_count": null,
   "id": "39c900a3",
   "metadata": {},
   "outputs": [],
   "source": [
    "\n",
    "filepath0 = 'Zillow-March2025-dataset_part0.json'\n",
    "filepath1 = 'Zillow-March2025-dataset_part1.json'\n",
    "filepath2 = 'Zillow-March2025-dataset_part2.json'\n",
    "filepath3 = 'Zillow-March2025-dataset_part3.json'\n",
    "\n",
    "# Load the JSON files and convert them to pandas data frames\n",
    "with open(filepath0) as f:\n",
    "  data0 = json.load(f)\n",
    "with open(filepath1) as f:\n",
    "  data1 = json.load(f)\n",
    "with open(filepath2) as f:\n",
    "  data2 = json.load(f)\n",
    "with open(filepath3) as f:\n",
    "  data3 = json.load(f)\n",
    "# Combine the data from all files into a single DataFrame\n",
    "df0 = pd.DataFrame(data0)\n",
    "df1 = pd.DataFrame(data1)\n",
    "df2 = pd.DataFrame(data2)\n",
    "df3 = pd.DataFrame(data3)\n",
    "df_2025 = pd.concat([df0, df1, df2, df3], ignore_index=True)\n"
   ]
  },
  {
   "cell_type": "markdown",
   "id": "f59648b9",
   "metadata": {},
   "source": [
    "# 2025 Walkable Locations\n",
    "\n",
    "reduce data to locations that are <1 mile from center of campus "
   ]
  },
  {
   "cell_type": "code",
   "execution_count": null,
   "id": "491f06d0",
   "metadata": {},
   "outputs": [],
   "source": []
  },
  {
   "cell_type": "code",
   "execution_count": null,
   "id": "dbb89276",
   "metadata": {},
   "outputs": [
    {
     "name": "stdout",
     "output_type": "stream",
     "text": [
      "                    streetAddress         city state    price  bedrooms  \\\n",
      "1          232 McCauley St UNIT A  Chapel Hill    NC   829100       8.0   \n",
      "4                   308 Ransom St  Chapel Hill    NC   701600       2.0   \n",
      "62        114 Purefoy Rd UNIT 100  Chapel Hill    NC   559500       3.0   \n",
      "78              130 E Longview St     Carrboro    NC   269600       2.0   \n",
      "94             313 Patterson Pl E  Chapel Hill    NC  1650000       2.0   \n",
      "...                           ...          ...   ...      ...       ...   \n",
      "31973                514 North St  Chapel Hill    NC  1234100       2.0   \n",
      "31982         427 Brookside Dr #A  Chapel Hill    NC   914100       4.0   \n",
      "31985        308 1/2 Ransom St #B  Chapel Hill    NC        0       1.0   \n",
      "32010  140 W Franklin St UNIT 201  Chapel Hill    NC   859900       2.0   \n",
      "32031                46 Davie Cir  Chapel Hill    NC   679700       4.0   \n",
      "\n",
      "       bathrooms  distance_from_campus  \n",
      "1            6.0              0.610280  \n",
      "4            1.0              0.661051  \n",
      "62           2.0              0.931369  \n",
      "78           2.0              0.878286  \n",
      "94           2.5              0.619431  \n",
      "...          ...                   ...  \n",
      "31973        2.5              0.535367  \n",
      "31982        2.5              0.964480  \n",
      "31985        1.0              0.644319  \n",
      "32010        2.0              0.623497  \n",
      "32031        3.0              0.862846  \n",
      "\n",
      "[2329 rows x 7 columns]\n"
     ]
    }
   ],
   "source": [
    "from geopy.distance import geodesic\n",
    "\n",
    "# Define key campus locations (e.g., The Pit, Franklin Street)\n",
    "unc_coordinates = (35.9106, -79.0472)\n",
    "\n",
    "# Calculate walking/biking distance for each property\n",
    "def calculate_distance_to_location(row, location_coords):\n",
    "    property_coords = (row['latitude'], row['longitude'])\n",
    "    return geodesic(property_coords, location_coords).miles\n",
    "\n",
    "# Remove rows with missing or invalid latitude/longitude\n",
    "df_2025 = df_2025.dropna(subset=['latitude', 'longitude'])\n",
    "\n",
    "# Calculate distance from campus for each property\n",
    "df_2025['distance_from_campus'] = df_2025.apply(\n",
    "    lambda row: calculate_distance_to_location(row, unc_coordinates), axis=1\n",
    ")\n",
    "\n",
    "# Filter for properties within 5 miles of campus\n",
    "df_2025_nearby = df_2025[df_2025['distance_from_campus'] <= 1]\n",
    "\n",
    "# Display the filtered properties\n",
    "print(df_2025_nearby[['streetAddress', 'city', 'state', 'price', 'bedrooms', 'bathrooms', 'distance_from_campus']])\n",
    "\n"
   ]
  }
 ],
 "metadata": {
  "kernelspec": {
   "display_name": ".venv",
   "language": "python",
   "name": "python3"
  },
  "language_info": {
   "codemirror_mode": {
    "name": "ipython",
    "version": 3
   },
   "file_extension": ".py",
   "mimetype": "text/x-python",
   "name": "python",
   "nbconvert_exporter": "python",
   "pygments_lexer": "ipython3",
   "version": "3.11.5"
  }
 },
 "nbformat": 4,
 "nbformat_minor": 5
}
