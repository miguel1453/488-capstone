{
 "cells": [
  {
   "cell_type": "markdown",
   "id": "60529adc",
   "metadata": {},
   "source": [
    "# Set Up 2023 Data"
   ]
  },
  {
   "cell_type": "code",
   "execution_count": null,
   "id": "6edc6652-e3ea-4e23-836e-f577a0efe232",
   "metadata": {},
   "outputs": [],
   "source": [
    "import json\n",
    "import pandas as pd\n",
    "\n",
    "filepath = \"Zillow-ChapelHill-Spring2023-18k-Properties.json\"\n",
    "\n",
    "# First, Load the JSON file and convery it to a pandas data frame\n",
    "with open(filepath) as f:\n",
    "  data2023 = json.load(f)\n",
    "data2023.keys()\n",
    "\n",
    "\n",
    "df_2023 = pd.DataFrame(data2023)\n",
    "\n",
    "# Display the first few rows of the DataFrame\n",
    "print(df_2023.head())\n"
   ]
  },
  {
   "cell_type": "markdown",
   "id": "dbbc6c08",
   "metadata": {},
   "source": [
    "# Set up 2025 Data"
   ]
  },
  {
   "cell_type": "code",
   "execution_count": null,
   "id": "39c900a3",
   "metadata": {},
   "outputs": [],
   "source": [
    "\n",
    "filepath0 = 'Zillow-March2025-dataset_part0.json'\n",
    "filepath1 = 'Zillow-March2025-dataset_part1.json'\n",
    "filepath2 = 'Zillow-March2025-dataset_part2.json'\n",
    "filepath3 = 'Zillow-March2025-dataset_part3.json'\n",
    "\n",
    "# Load the JSON files and convert them to pandas data frames\n",
    "with open(filepath0, encoding='utf-8') as f:\n",
    "  data0 = json.load(f)\n",
    "with open(filepath1, encoding='utf-8') as f:\n",
    "  data1 = json.load(f)\n",
    "with open(filepath2, encoding='utf-8') as f:\n",
    "  data2 = json.load(f)\n",
    "with open(filepath3, encoding='utf-8') as f:\n",
    "  data3 = json.load(f)\n",
    "# Combine the data from all files into a single DataFrame\n",
    "df0 = pd.DataFrame(data0)\n",
    "df1 = pd.DataFrame(data1)\n",
    "df2 = pd.DataFrame(data2)\n",
    "df3 = pd.DataFrame(data3)\n",
    "df_2025 = pd.concat([df0, df1, df2, df3], ignore_index=True)\n"
   ]
  },
  {
   "cell_type": "markdown",
   "id": "f59648b9",
   "metadata": {},
   "source": [
    "# 2025 Walkable Locations\n",
    "\n",
    "reduce data to locations that are <1 mile from center of campus "
   ]
  },
  {
   "cell_type": "code",
   "execution_count": null,
   "id": "dbb89276",
   "metadata": {},
   "outputs": [],
   "source": [
    "from geopy.distance import geodesic\n",
    "\n",
    "# Define key campus locations (e.g., The Pit, Franklin Street)\n",
    "unc_coordinates = (35.9106, -79.0472)\n",
    "maximum_distance = 1  # in miles\n",
    "\n",
    "# Calculate walking/biking distance for each property\n",
    "def calculate_distance_to_location(row, location_coords):\n",
    "    property_coords = (row['latitude'], row['longitude'])\n",
    "    return geodesic(property_coords, location_coords).miles\n",
    "\n",
    "# Remove rows with missing or invalid latitude/longitude\n",
    "df_2025 = df_2025.dropna(subset=['latitude', 'longitude'])\n",
    "\n",
    "# Calculate distance from campus for each property\n",
    "df_2025['distance_from_campus'] = df_2025.apply(\n",
    "    lambda row: calculate_distance_to_location(row, unc_coordinates), axis=1\n",
    ")\n",
    "\n",
    "# Filter for properties within 5 miles of campus\n",
    "df_2025_nearby = df_2025[df_2025['distance_from_campus'] <= maximum_distance]\n",
    "\n",
    "df_2025 = df_2025_nearby\n",
    "\n",
    "# Display the filtered properties\n",
    "print(df_2025[['streetAddress', 'city', 'state', 'price', 'bedrooms', 'bathrooms', 'distance_from_campus', 'daysOnZillow']])\n",
    "\n"
   ]
  },
  {
   "cell_type": "markdown",
   "id": "0a0c23ea",
   "metadata": {},
   "source": [
    "# Property Type Filter\n",
    "\n",
    "Focus on:\n",
    "- Condos, townhomes, single family homes\n",
    "- Units with 2–3 bedrooms (for possible roommates)\n",
    "\n",
    "\n",
    "\n"
   ]
  },
  {
   "cell_type": "markdown",
   "id": "1e102791",
   "metadata": {},
   "source": [
    "### Posible properties\n",
    "- 'apartment' \n",
    "- 'single_family' \n",
    "- 'townhouse' \n",
    "- 'multi_family' \n",
    "- 'condo'\n",
    "- 'home_type_unknown' \n",
    "- 'lot'"
   ]
  },
  {
   "cell_type": "code",
   "execution_count": null,
   "id": "bc10365b",
   "metadata": {},
   "outputs": [],
   "source": [
    "\n",
    "home_types = ['single_family', 'townhouse', 'condo']\n",
    "\n",
    "# Clean up the 'homeType' column\n",
    "df_2025.loc[:, 'homeType'] = df_2025['homeType'].str.lower() # this just makes sure all home types are in lower case\n",
    "df_2025_expected_home_type = df_2025[\n",
    "    (df_2025_nearby['homeType'].isin(home_types)) &\n",
    "    (df_2025_nearby['bedrooms'].between(2, 3))\n",
    "]\n",
    "\n",
    "df_2025 = df_2025_expected_home_type\n",
    "# Display the filtered properties\n",
    "print(df_2025[['streetAddress', 'city', 'homeType', 'price', 'bedrooms', 'bathrooms', 'distance_from_campus', 'daysOnZillow']])"
   ]
  },
  {
   "cell_type": "markdown",
   "id": "a5e892bb",
   "metadata": {},
   "source": [
    "# Time on Market / Turnover\n",
    "- Look at average days on market for each property\n",
    "- Higher turnover may signal student-friendly properties\n",
    "- Low turnover could signal quiet, long-term-owner zones ideal for parents seeking stability"
   ]
  },
  {
   "cell_type": "code",
   "execution_count": null,
   "id": "99c3ca64",
   "metadata": {},
   "outputs": [],
   "source": [
    "max_time_on_market = 60 # days\n",
    "\n",
    "# Filter for properties that have been on the market for less than 1000 days\n",
    "df_2025_high_turnover = df_2025[df_2025['daysOnZillow'] <= max_time_on_market]\n",
    "\n",
    "df_2025 = df_2025_high_turnover\n",
    "\n",
    "# Display the filtered properties\n",
    "print(df_2025[['streetAddress', 'city', 'homeType', 'price', 'bedrooms', 'bathrooms', 'distance_from_campus', 'daysOnZillow']])\n"
   ]
  },
  {
   "cell_type": "markdown",
   "id": "da4a5265",
   "metadata": {},
   "source": [
    "# Property Features\n",
    "- In-unit laundry (major preference)\n",
    "- Dedicated parking\n",
    "- Safe, well-lit paths or sidewalks to campus\n",
    "    "
   ]
  },
  {
   "cell_type": "code",
   "execution_count": null,
   "id": "cd7cc0e1",
   "metadata": {},
   "outputs": [],
   "source": []
  },
  {
   "cell_type": "markdown",
   "id": "695a60d2",
   "metadata": {},
   "source": [
    "# Transit Routes\n",
    "\n",
    "- Evaluate proximity to Chapel Hill Transit stops\n",
    "- Bonus points for routes with direct connection to campus\n"
   ]
  },
  {
   "cell_type": "code",
   "execution_count": null,
   "id": "8adc7980",
   "metadata": {},
   "outputs": [],
   "source": []
  },
  {
   "cell_type": "markdown",
   "id": "7738945f",
   "metadata": {},
   "source": [
    "# Appreciation Rate\n",
    "\n",
    "- Compare what properties went up 20% between 2023 and 2025 sets and filter"
   ]
  },
  {
   "cell_type": "code",
   "execution_count": null,
   "id": "a19fe6e1",
   "metadata": {},
   "outputs": [],
   "source": [
    "# Clean up price and zpid columns\n",
    "df_2023['price'] = pd.to_numeric(df_2023['price'], errors='coerce')\n",
    "df_2025['price'] = pd.to_numeric(df_2025['price'], errors='coerce')\n",
    "df_2023['zpid'] = pd.to_numeric(df_2023['zpid'], errors='coerce')\n",
    "df_2025['zpid'] = pd.to_numeric(df_2025['zpid'], errors='coerce')\n",
    "\n",
    "# Merge 2023 and 2025 data on 'zpid'\n",
    "merged_df = pd.merge(\n",
    "    df_2025[['zpid', 'price', 'streetAddress']],  # keep zpid, price, streetAddress from 2025\n",
    "    df_2023[['zpid', 'price']],  # keep zpid and price from 2023\n",
    "    on='zpid',\n",
    "    suffixes=('_2025', '_2023')\n",
    ")\n",
    "\n",
    "# Calculate percentage price increase\n",
    "merged_df['price_increase_percentage'] = ((merged_df['price_2025'] - merged_df['price_2023']) / merged_df['price_2023']) * 100\n",
    "\n",
    "# Filter properties with price appreciation ≥ 20%\n",
    "filtered_properties = merged_df[merged_df['price_increase_percentage'] >= 20]\n",
    "\n",
    "# Show the result\n",
    "print(filtered_properties[['zpid', 'streetAddress', 'price_2023', 'price_2025', 'price_increase_percentage']])\n"
   ]
  }
 ],
 "metadata": {
  "kernelspec": {
   "display_name": "Python 3",
   "language": "python",
   "name": "python3"
  },
  "language_info": {
   "codemirror_mode": {
    "name": "ipython",
    "version": 3
   },
   "file_extension": ".py",
   "mimetype": "text/x-python",
   "name": "python",
   "nbconvert_exporter": "python",
   "pygments_lexer": "ipython3",
   "version": "3.13.3"
  }
 },
 "nbformat": 4,
 "nbformat_minor": 5
}
